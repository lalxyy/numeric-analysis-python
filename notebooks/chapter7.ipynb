{
 "cells": [
  {
   "cell_type": "markdown",
   "metadata": {},
   "source": [
    "## 第七章 数值积分与数值微分\n",
    "\n",
    "### 实验目的\n",
    "\n",
    "选用复化梯形公式、复化 Simpson 公式，计算积分\n",
    "\n",
    "（1）$I = \\int_{0}^{\\frac{1}{4}}\\sqrt{4-\\sin^2x}dx$\n",
    "\n",
    "（2）$I = \\int_{0}^{1}\\frac{\\sin x}{x}dx$\n",
    "\n",
    "（3）$I = \\int_{0}^{1}\\frac{e^x}{4 + x^2}dx$\n",
    "\n",
    "### 实验原理\n",
    "\n",
    "复化梯形公式、复化 Simpson 公式求解数值积分。\n",
    "\n",
    "### 实验方法与步骤\n",
    "\n",
    "（有两个返回值的函数，第一个是积分值，第二个是误差估计）"
   ]
  },
  {
   "cell_type": "code",
   "execution_count": 78,
   "metadata": {
    "collapsed": true
   },
   "outputs": [],
   "source": [
    "import numpy as np\n",
    "from math import *"
   ]
  },
  {
   "cell_type": "markdown",
   "metadata": {},
   "source": [
    "#### 复化梯形公式"
   ]
  },
  {
   "cell_type": "code",
   "execution_count": 75,
   "metadata": {
    "collapsed": true
   },
   "outputs": [],
   "source": [
    "def trapezoid(f, a, b, n, f_derivative_2):\n",
    "    \"\"\"\n",
    "    f：需要求积分的函数\n",
    "    a：积分下限\n",
    "    b：积分上限\n",
    "    n：区间分成 n 份\n",
    "    f_derivative_2：二阶导数\n",
    "    \"\"\"\n",
    "    x_k = a\n",
    "    h = (b - a) / n\n",
    "    res = f(a) + f(b)\n",
    "    while x_k < b:\n",
    "        res = res + 2 * f(x_k)\n",
    "        x_k = x_k + h\n",
    "    res = res * h / 2\n",
    "    \n",
    "    M_2_x = np.linspace(a, b, num=1024, endpoint=True)\n",
    "    M_2 = max(np.abs([f_derivative_2(i) for i in M_2_x]))\n",
    "    \n",
    "    return res, M_2 * (b - a)**3 / (12 * n**2)"
   ]
  },
  {
   "cell_type": "markdown",
   "metadata": {},
   "source": [
    "#### 复化 Simpson 公式"
   ]
  },
  {
   "cell_type": "code",
   "execution_count": 81,
   "metadata": {
    "collapsed": true
   },
   "outputs": [],
   "source": [
    "def simpson(f, a, b, n, f_derivative_4):\n",
    "    k = 2\n",
    "    res = 0\n",
    "    h = (b - a) / n\n",
    "    while k <= n:\n",
    "        res = res + f(a + (k-2)*h) + 4 * f(a + (k-1)*h) + f(a + k * h)\n",
    "        k = k + 1\n",
    "    res = res * h / 6\n",
    "    \n",
    "    M_4_x = np.linspace(a, b, num=1024, endpoint=True)\n",
    "    M_4 = max(np.abs([f_derivative_4(i) for i in M_4_x]))\n",
    "    \n",
    "    return res, M_4 * (b - a)**5 / (2880 * n**4)"
   ]
  },
  {
   "cell_type": "markdown",
   "metadata": {},
   "source": [
    "#### 求积"
   ]
  },
  {
   "cell_type": "code",
   "execution_count": 79,
   "metadata": {
    "collapsed": false,
    "scrolled": false
   },
   "outputs": [
    {
     "data": {
      "text/plain": [
       "(0.4988117397614641, 6.6426044961398496e-12)"
      ]
     },
     "execution_count": 79,
     "metadata": {},
     "output_type": "execute_result"
    }
   ],
   "source": [
    "trapezoid(lambda x: math.sqrt(4 - math.sin(x)**2), 0, 0.25, 9900, lambda x: - (math.cos(x)**2 * math.sin(x)**2) / (4 - math.sin(x)**2)**1.5 - (math.cos(x)**2 - math.sin(x)**2) / math.sqrt(4 - math.sin(x)**2))"
   ]
  },
  {
   "cell_type": "code",
   "execution_count": 82,
   "metadata": {
    "collapsed": false,
    "scrolled": false
   },
   "outputs": [
    {
     "data": {
      "text/plain": [
       "(0.4986608064596534, 5.736145283977855e-23)"
      ]
     },
     "execution_count": 82,
     "metadata": {},
     "output_type": "execute_result"
    }
   ],
   "source": [
    "simpson(lambda x: math.sqrt(4 - math.sin(x)**2), 0, 0.25, 9900, lambda x: - (15 * cos(x)**4 * sin(x)**4) / (4 - sin(x)**2)**(7/2) - (18 * cos(x)**4 * sin(x)**2) / (4 - sin(x)**2)**(5/2) + (18 * cos(x)**2 * sin(x)**4) / (4 - sin(x)**2)**(5/2) - 3 * cos(x)**4 / (4 - sin(x)**2)**1.5 + (22 * cos(x)**2 * sin(x)**2) / (4 - sin(x)**2)**(3/2) - (3 * sin(x)**4) / (4 - sin(x)**2)**(3/2) + (4 * cos(x)**2) / (4 - sin(x)**2)**(1/2) - (4 * sin(x)**2) / (4 - sin(x)**2)**(1/2))"
   ]
  },
  {
   "cell_type": "code",
   "execution_count": 85,
   "metadata": {
    "collapsed": false,
    "scrolled": true
   },
   "outputs": [
    {
     "data": {
      "text/plain": [
       "(0.8462293667259069, 2.0599210439079019e-10)"
      ]
     },
     "execution_count": 85,
     "metadata": {},
     "output_type": "execute_result"
    }
   ],
   "source": [
    "trapezoid(lambda x: math.sin(x) / x, 0.1, 1, 9900, lambda x: - 2*cos(x)/x**2 + 2*sin(x)/x**3 - sin(x)/x)"
   ]
  },
  {
   "cell_type": "code",
   "execution_count": 84,
   "metadata": {
    "collapsed": false
   },
   "outputs": [
    {
     "data": {
      "text/plain": [
       "(0.8460549811986162, 4.253598138714935e-21)"
      ]
     },
     "execution_count": 84,
     "metadata": {},
     "output_type": "execute_result"
    }
   ],
   "source": [
    "simpson(lambda x: math.sin(x) / x, 0.1, 1, 9900, lambda x: - 24*cos(x)/x**4 + 4*cos(x)/x**2 + 24*sin(x)/x**5 - 12*sin(x)/x**3 + sin(x)/x)"
   ]
  },
  {
   "cell_type": "code",
   "execution_count": 87,
   "metadata": {
    "collapsed": false
   },
   "outputs": [
    {
     "data": {
      "text/plain": [
       "(0.39089201293875825, 2.0338809041968162e-10)"
      ]
     },
     "execution_count": 87,
     "metadata": {},
     "output_type": "execute_result"
    }
   ],
   "source": [
    "trapezoid(lambda x: math.pow(math.e, x) / (4 + x**2), 0, 1, 9900, lambda x: - 4*x*e**x/(4+x**2)**2 + e**x/(4+x**2) + e**x * (8*x**2/(4+x**2)**3 - 2/(4+x**2)**3))"
   ]
  },
  {
   "cell_type": "code",
   "execution_count": 88,
   "metadata": {
    "collapsed": false
   },
   "outputs": [
    {
     "data": {
      "text/plain": [
       "(0.3907717621038343, 1.1531953904897029e-20)"
      ]
     },
     "execution_count": 88,
     "metadata": {},
     "output_type": "execute_result"
    }
   ],
   "source": [
    "simpson(lambda x: math.pow(math.e, x) / (4 + x**2), 0, 1, 9900, lambda x: - 8*x*e**x/(4+x**2)**2 + e**x/(4+x**2) + e**x * (384*x**4/(4+x**2)**5 - 288*x**2/(4+x**2)**4 + 24/(4+x**2)**3) + 4*e**x * (-48*x**3/(4+x**2)**4 + 24*x/(4+x**2)**3) + 6*e**x * (8*x**2/(4+x**2)**3 - 2/(4+x**2)**2))"
   ]
  }
 ],
 "metadata": {
  "kernelspec": {
   "display_name": "Python [conda root]",
   "language": "python",
   "name": "conda-root-py"
  },
  "language_info": {
   "codemirror_mode": {
    "name": "ipython",
    "version": 3
   },
   "file_extension": ".py",
   "mimetype": "text/x-python",
   "name": "python",
   "nbconvert_exporter": "python",
   "pygments_lexer": "ipython3",
   "version": "3.5.2"
  }
 },
 "nbformat": 4,
 "nbformat_minor": 2
}
