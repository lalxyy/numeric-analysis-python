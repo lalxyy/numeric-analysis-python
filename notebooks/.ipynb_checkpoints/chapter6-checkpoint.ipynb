{
 "cells": [
  {
   "cell_type": "markdown",
   "metadata": {},
   "source": [
    "## 第六章 插值与逼近\n",
    "\n",
    "### 实验目的\n",
    "\n",
    "给定函数 $y = f(x)$ 的 $n + 1$ 个节点值 $y_j = f(x_j), j = 0, 1, ..., n$，试用 Lagrange 方法求其 $n$ 次插值多项式或分段插值多项式。\n",
    "\n",
    "### 实验原理\n",
    "\n",
    "Lagrange 多项式插值（高次）与分段低次插值。\n",
    "\n",
    "### 实验内容与步骤"
   ]
  },
  {
   "cell_type": "code",
   "execution_count": 56,
   "metadata": {
    "collapsed": false
   },
   "outputs": [],
   "source": [
    "import numpy as np\n",
    "import matplotlib.pyplot\n",
    "from copy import deepcopy\n",
    "\n",
    "from pylab import * \n",
    "mpl.rcParams['font.sans-serif'] = ['SimSun'] # 在其他机器上可能需要修改字体名\n",
    "mpl.rcParams['axes.unicode_minus'] = False \n",
    "mpl.rcParams['savefig.dpi'] = 108"
   ]
  },
  {
   "cell_type": "markdown",
   "metadata": {},
   "source": [
    "给定数据如下，\n",
    "\n",
    "\n",
    "<table>\n",
    "  <tr>\n",
    "    <td>$x_j$</td>\n",
    "    <td>0.4</td>\n",
    "    <td>0.55</td>\n",
    "    <td>0.65</td>\n",
    "    <td>0.80</td>\n",
    "    <td>0.95</td>\n",
    "    <td>1.05</td>\n",
    "  </tr>\n",
    "  <tr>\n",
    "    <td>$y_j$</td>\n",
    "    <td>0.41075</td>\n",
    "    <td>0.57815</td>\n",
    "    <td>0.69675</td>\n",
    "    <td>0.90</td>\n",
    "    <td>1.00</td>\n",
    "    <td>1.25382</td>\n",
    "  </tr>\n",
    "</table>\n",
    "\n",
    "构造 5 次 Lagrange 插值多项式和分段 2 次插值多项式，并计算 $f(0.596)$、$f(0.99)$ 的值。"
   ]
  },
  {
   "cell_type": "markdown",
   "metadata": {},
   "source": [
    "#### 五次插值"
   ]
  },
  {
   "cell_type": "code",
   "execution_count": 50,
   "metadata": {
    "collapsed": true
   },
   "outputs": [],
   "source": [
    "x = np.array([0.4, 0.55, 0.65, 0.80, 0.95, 1.05])\n",
    "y = np.array([0.41075, 0.57815, 0.69675, 0.90, 1.00, 1.25382])"
   ]
  },
  {
   "cell_type": "code",
   "execution_count": 72,
   "metadata": {
    "collapsed": false
   },
   "outputs": [],
   "source": [
    "def lagrange(x, y):\n",
    "    length = len(x)\n",
    "    res = 1\n",
    "    functions = [None] * length\n",
    "    for i in range(0, length):\n",
    "        \n",
    "        def result(z, i0):\n",
    "            res = 1\n",
    "            for j in range(0, length):\n",
    "#                 print(res)\n",
    "                if i0 == j:\n",
    "#                     print('j: ', j)\n",
    "#                     print('i: ', i0)\n",
    "                    continue\n",
    "                res = res * ((z - x[j]) / (x[i0] - x[j]))\n",
    "            res = res * y[i0]\n",
    "            return res\n",
    "        \n",
    "        functions[i] = result\n",
    "    \n",
    "    def result_2(a):\n",
    "        res = 0\n",
    "        count = 0\n",
    "        for i in functions:\n",
    "            res += i(a, count)\n",
    "            count = count + 1\n",
    "        return res\n",
    "    \n",
    "    return result_2"
   ]
  },
  {
   "cell_type": "code",
   "execution_count": 81,
   "metadata": {
    "collapsed": false
   },
   "outputs": [
    {
     "data": {
      "text/plain": [
       "(0.6239168184035232, 1.0588076254764751)"
      ]
     },
     "execution_count": 81,
     "metadata": {},
     "output_type": "execute_result"
    }
   ],
   "source": [
    "result_function = lagrange(x, y)\n",
    "result_function(0.596), result_function(0.99)"
   ]
  },
  {
   "cell_type": "code",
   "execution_count": 114,
   "metadata": {
    "collapsed": false
   },
   "outputs": [
    {
     "data": {
      "image/png": "[encoded data removed]",
      "text/plain": [
       "<matplotlib.figure.Figure at 0x10ed71e48>"
      ]
     },
     "metadata": {},
     "output_type": "display_data"
    }
   ],
   "source": [
    "x_perform = np.linspace(0.4, 1.05, 512, endpoint=True)\n",
    "y_perform = [result_function(i) for i in x_perform]\n",
    "plot(x_perform, y_perform)\n",
    "show()"
   ]
  },
  {
   "cell_type": "markdown",
   "metadata": {},
   "source": [
    "#### 分段二次插值"
   ]
  },
  {
   "cell_type": "code",
   "execution_count": 111,
   "metadata": {
    "collapsed": false
   },
   "outputs": [],
   "source": [
    "def lagrange_part_2(x, y):\n",
    "    length = len(x)\n",
    "    def result(z):\n",
    "        i = 2\n",
    "        # 选取合适区间\n",
    "        while i < length:\n",
    "            if x[i - 2] <= z and z <= x[i]:\n",
    "                break\n",
    "            i = i + 1\n",
    "        h = x[i] - x[i - 2]\n",
    "        return y[i - 2] * (z - x[i-1]) * (z - x[i]) / ((x[i-2] - x[i-1]) * (x[i-2] - x[i])) \\\n",
    "                + y[i - 1] * (z - x[i-2]) * (z - x[i]) / ((x[i-1] - x[i-2]) * (x[i-1] - x[i])) \\\n",
    "                + y[i] * (z - x[i-2]) * (z - x[i-1]) / ((x[i] - x[i-1]) * (x[i] - x[i-2]))\n",
    "    return result"
   ]
  },
  {
   "cell_type": "code",
   "execution_count": 112,
   "metadata": {
    "collapsed": false
   },
   "outputs": [
    {
     "data": {
      "text/plain": [
       "(0.63201047999999993, 1.0835612800000001)"
      ]
     },
     "execution_count": 112,
     "metadata": {},
     "output_type": "execute_result"
    }
   ],
   "source": [
    "lagrange_part_2(x, y)(0.596), lagrange_part_2(x, y)(0.99)"
   ]
  },
  {
   "cell_type": "code",
   "execution_count": 113,
   "metadata": {
    "collapsed": false
   },
   "outputs": [
    {
     "data": {
      "image/png": "[encoded data removed]",
      "text/plain": [
       "<matplotlib.figure.Figure at 0x10ed33898>"
      ]
     },
     "metadata": {},
     "output_type": "display_data"
    }
   ],
   "source": [
    "x_perform = np.linspace(0.4, 1.05, 512, endpoint=True)\n",
    "y_perform = [lagrange_part_2(x, y)(i) for i in x_perform]\n",
    "plot(x_perform, y_perform)\n",
    "show()"
   ]
  }
 ],
 "metadata": {
  "kernelspec": {
   "display_name": "Python [conda root]",
   "language": "python",
   "name": "conda-root-py"
  },
  "language_info": {
   "codemirror_mode": {
    "name": "ipython",
    "version": 3
   },
   "file_extension": ".py",
   "mimetype": "text/x-python",
   "name": "python",
   "nbconvert_exporter": "python",
   "pygments_lexer": "ipython3",
   "version": "3.5.2"
  }
 },
 "nbformat": 4,
 "nbformat_minor": 2
}
