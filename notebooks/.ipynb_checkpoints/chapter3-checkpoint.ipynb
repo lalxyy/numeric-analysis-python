{
 "cells": [
  {
   "cell_type": "markdown",
   "metadata": {},
   "source": [
    "## 第三章 解线性方程组的迭代法\n",
    "\n",
    "### 实验目的\n",
    "\n",
    "对线性方程组（书后课题 1），分别采用 Jacobi 迭代、Gauss-Seidel 迭代、SOR 迭代求解。\n",
    "\n",
    "### 实验原理\n",
    "\n",
    "Jacobi 迭代、Gauss-Seidel 迭代与 SOR 迭代方法。\n",
    "\n",
    "- 判断是否满足收敛条件\n",
    "- 建立迭代格式\n",
    "- 误差分析（使用无穷大范数）、设定终止条件\n",
    "- 求解\n",
    "\n",
    "### 实验内容与步骤\n",
    "\n",
    "（函数的两个返回值，第一个是方程组的解向量，第二个是无穷大范数的估计误差）"
   ]
  },
  {
   "cell_type": "code",
   "execution_count": 18,
   "metadata": {
    "collapsed": true
   },
   "outputs": [],
   "source": [
    "import numpy as np\n",
    "import math"
   ]
  },
  {
   "cell_type": "code",
   "execution_count": 11,
   "metadata": {
    "collapsed": false
   },
   "outputs": [],
   "source": [
    "# 方程组录入\n",
    "matrix_x = np.array([\n",
    "    [4, 2, -3, -1, 2, 1, 0, 0, 0, 0],\n",
    "    [8, 6, -5, -3, 6, 5, 0, 1, 0, 0],\n",
    "    [4, 2, -2, -1, 3, 2, -1, 0, 3, 1],\n",
    "    [0, -2, 1, 5, -1, 3, -1, 1, 9, 4],\n",
    "    [-4, 2, 6, -1, 6, 7, -3, 3, 2, 3],\n",
    "    [8, 6, -8, 5, 7, 17, 2, 6, -3, 5],\n",
    "    [0, 2, -1, 3, -4, 2, 5, 3, 0, 1],\n",
    "    [16, 10, -11, -9, 17, 34, 2, -1, 2, 2],\n",
    "    [4, 6, 2, -7, 13, 9, 2, 0, 12, 4],\n",
    "    [0, 0, -1, 8, -3, -24, -8, 6, 3, -1]\n",
    "])\n",
    "matrix_y = np.array([5, 12, 3, 2, 3, 46, 13, 38, 19, -21])"
   ]
  },
  {
   "cell_type": "markdown",
   "metadata": {},
   "source": [
    "### Jacobi 迭代"
   ]
  },
  {
   "cell_type": "code",
   "execution_count": 19,
   "metadata": {
    "collapsed": true
   },
   "outputs": [],
   "source": [
    "def Jacobi(matrix_x, matrix_y, n):\n",
    "    # 迭代矩阵\n",
    "    tril = -np.tril(matrix_x)\n",
    "    for x in range(0, len(matrix_x)):\n",
    "        tril[x][x] = 0\n",
    "#     print(tril)\n",
    "    triu = -np.triu(matrix_x)\n",
    "    for x in range(0, len(matrix_x)):\n",
    "        triu[x][x] = 0\n",
    "#     print(triu)\n",
    "    diag = np.diag(np.diag(matrix_x))\n",
    "#     print(diag)\n",
    "#     resolver = np.linalg.inv(diag - tril) * triu\n",
    "    resolver = np.dot(np.linalg.inv(diag), tril + triu)\n",
    "    \n",
    "    # 收敛条件、谱半径\n",
    "    eig_value, eig_vertex = np.linalg.eig(resolver)\n",
    "    spectural_radium = max(abs(eig_value))\n",
    "    print('谱半径：', spectural_radium)\n",
    "    if spectural_radium >= 1:\n",
    "        print('Jacobi 迭代不收敛')\n",
    "        return np.zeros(len(matrix_y))\n",
    "    \n",
    "    # 迭代求解\n",
    "    x = np.zeros(len(matrix_x))\n",
    "    x_past = x\n",
    "    for i in range(0, n):\n",
    "        x_past = x\n",
    "        x = np.dot(resolver, x) + np.dot(np.linalg.inv(diag), matrix_y)\n",
    "    \n",
    "    return x, \\\n",
    "            np.linalg.norm(resolver, ord=np.inf) * np.linalg.norm(x - x_past) / (1 - np.linalg.norm(resolver, ord=np.inf))"
   ]
  },
  {
   "cell_type": "code",
   "execution_count": 20,
   "metadata": {
    "collapsed": false
   },
   "outputs": [
    {
     "name": "stdout",
     "output_type": "stream",
     "text": [
      "谱半径： 0.387298334621\n"
     ]
    },
    {
     "data": {
      "text/plain": [
       "(array([ 1.000251,  1.005795,  1.000251]), 0.019164834123988596)"
      ]
     },
     "execution_count": 20,
     "metadata": {},
     "output_type": "execute_result"
    }
   ],
   "source": [
    "Jacobi(np.array([[10, 3, 1], [2, -10, 3], [1, 3, 10]]), np.array([14, -5, 14]), 6)"
   ]
  },
  {
   "cell_type": "code",
   "execution_count": 21,
   "metadata": {
    "collapsed": true
   },
   "outputs": [],
   "source": [
    "def Gauss_Seidel(matrix_x, matrix_y, n):\n",
    "    # 迭代矩阵\n",
    "    tril = -np.tril(matrix_x)\n",
    "    for x in range(0, len(matrix_x)):\n",
    "        tril[x][x] = 0\n",
    "#     print(tril)\n",
    "    triu = -np.triu(matrix_x)\n",
    "    for x in range(0, len(matrix_x)):\n",
    "        triu[x][x] = 0\n",
    "#     print(triu)\n",
    "    diag = np.diag(np.diag(matrix_x))\n",
    "#     print(diag)\n",
    "    resolver = np.dot(np.linalg.inv(diag - tril), triu)\n",
    "    \n",
    "    # 收敛条件、谱半径\n",
    "    eig_value, eig_vertex = np.linalg.eig(resolver)\n",
    "    spectural_radium = max(abs(eig_value))\n",
    "    print('谱半径：', spectural_radium)\n",
    "    if spectural_radium >= 1:\n",
    "        print('Gauss-Seidel 迭代不收敛')\n",
    "        return np.zeros(len(matrix_y))\n",
    "    \n",
    "    # 迭代求解\n",
    "    x = np.zeros(len(matrix_x))\n",
    "    x_past = x\n",
    "    for i in range(0, n):\n",
    "        x_past = x\n",
    "        x = np.dot(resolver, x) + np.dot(np.linalg.inv(diag - tril), matrix_y)\n",
    "    \n",
    "    return x, \\\n",
    "            np.linalg.norm(resolver, ord=np.inf) * np.linalg.norm(x - x_past) / (1 - np.linalg.norm(resolver, ord=np.inf))"
   ]
  },
  {
   "cell_type": "code",
   "execution_count": 22,
   "metadata": {
    "collapsed": false
   },
   "outputs": [
    {
     "name": "stdout",
     "output_type": "stream",
     "text": [
      "谱半径： 0.183142154277\n"
     ]
    },
    {
     "data": {
      "text/plain": [
       "(array([ 1.00003897,  1.00002773,  0.99998778]), 0.00021051673770270722)"
      ]
     },
     "execution_count": 22,
     "metadata": {},
     "output_type": "execute_result"
    }
   ],
   "source": [
    "Gauss_Seidel(np.array([[10, 3, 1], [2, -10, 3], [1, 3, 10]]), np.array([14, -5, 14]), 6)"
   ]
  },
  {
   "cell_type": "code",
   "execution_count": 27,
   "metadata": {
    "collapsed": false
   },
   "outputs": [],
   "source": [
    "def SOR(matrix_x, matrix_y, omega, n):\n",
    "    # 迭代矩阵\n",
    "    tril = -np.tril(matrix_x)\n",
    "    for x in range(0, len(matrix_x)):\n",
    "        tril[x][x] = 0\n",
    "#     print(tril)\n",
    "    triu = -np.triu(matrix_x)\n",
    "    for x in range(0, len(matrix_x)):\n",
    "        triu[x][x] = 0\n",
    "#     print(triu)\n",
    "    diag = np.diag(np.diag(matrix_x))\n",
    "#     print(diag)\n",
    "    resolver = np.dot(np.linalg.inv(diag - omega * tril), (1 - omega) * diag + omega * triu)\n",
    "    \n",
    "    # 收敛条件、谱半径\n",
    "    eig_value, eig_vertex = np.linalg.eig(resolver)\n",
    "    spectural_radium = max(abs(eig_value))\n",
    "    print('谱半径：', spectural_radium)\n",
    "    if spectural_radium >= 1:\n",
    "        print('SOR 迭代不收敛')\n",
    "        return np.zeros(len(matrix_y))\n",
    "    \n",
    "    # 迭代求解\n",
    "    x = np.zeros(len(matrix_x))\n",
    "    x_past = x\n",
    "    for i in range(0, n):\n",
    "        x_past = x\n",
    "        x = np.dot(resolver, x) + np.dot(omega * np.linalg.inv(diag - omega * tril), matrix_y)\n",
    "    \n",
    "    return x, \\\n",
    "            np.linalg.norm(resolver, ord=np.inf) * np.linalg.norm(x - x_past) / (1 - np.linalg.norm(resolver, ord=np.inf))"
   ]
  },
  {
   "cell_type": "code",
   "execution_count": 28,
   "metadata": {
    "collapsed": false,
    "scrolled": false
   },
   "outputs": [
    {
     "name": "stdout",
     "output_type": "stream",
     "text": [
      "谱半径： 0.523698683977\n"
     ]
    },
    {
     "data": {
      "text/plain": [
       "(array([ 2.56613985,  0.69482607, -0.49525942]), -0.73078331577554412)"
      ]
     },
     "execution_count": 28,
     "metadata": {},
     "output_type": "execute_result"
    }
   ],
   "source": [
    "SOR(np.array([[4, -2, -4], [-2, 17, 10], [-4, 10, 9]]), np.array([10, 3, -7]), 1.46, 3)"
   ]
  },
  {
   "cell_type": "code",
   "execution_count": null,
   "metadata": {
    "collapsed": true
   },
   "outputs": [],
   "source": []
  }
 ],
 "metadata": {
  "kernelspec": {
   "display_name": "Python [conda root]",
   "language": "python",
   "name": "conda-root-py"
  },
  "language_info": {
   "codemirror_mode": {
    "name": "ipython",
    "version": 3
   },
   "file_extension": ".py",
   "mimetype": "text/x-python",
   "name": "python",
   "nbconvert_exporter": "python",
   "pygments_lexer": "ipython3",
   "version": "3.5.2"
  }
 },
 "nbformat": 4,
 "nbformat_minor": 2
}
